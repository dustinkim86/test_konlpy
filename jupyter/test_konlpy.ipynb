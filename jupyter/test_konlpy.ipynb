{
 "cells": [
  {
   "cell_type": "code",
   "execution_count": 9,
   "metadata": {},
   "outputs": [
    {
     "name": "stdout",
     "output_type": "stream",
     "text": [
      "/Users/daniellee/test_konlpy/.venv/bin/python3\r\n"
     ]
    }
   ],
   "source": [
    "!which python3"
   ]
  },
  {
   "cell_type": "code",
   "execution_count": 10,
   "metadata": {},
   "outputs": [
    {
     "name": "stdout",
     "output_type": "stream",
     "text": [
      "__init__.py   constants.py  \u001b[1m\u001b[36mdata\u001b[m\u001b[m          internals.py  \u001b[1m\u001b[36mstream\u001b[m\u001b[m\r\n",
      "\u001b[1m\u001b[36m__pycache__\u001b[m\u001b[m   corpus.py     data.py       \u001b[1m\u001b[36mjava\u001b[m\u001b[m          \u001b[1m\u001b[36mtag\u001b[m\u001b[m\r\n",
      "about.py      csvutils.py   downloader.py jvm.py        utils.py\r\n"
     ]
    }
   ],
   "source": [
    "!ls /Users/daniellee/test_konlpy/.venv/lib/python3.7/site-packages/konlpy"
   ]
  },
  {
   "cell_type": "code",
   "execution_count": 11,
   "metadata": {},
   "outputs": [
    {
     "name": "stdout",
     "output_type": "stream",
     "text": [
      "KkmaInterface$1.class KkmaInterface$3.class KkmaInterface.class\r\n",
      "KkmaInterface$2.class KkmaInterface$4.class\r\n"
     ]
    }
   ],
   "source": [
    "!ls /Users/daniellee/test_konlpy/.venv/lib/python3.7/site-packages/konlpy/java/bin/kr/lucypark/kkma"
   ]
  },
  {
   "cell_type": "code",
   "execution_count": 12,
   "metadata": {},
   "outputs": [
    {
     "name": "stdout",
     "output_type": "stream",
     "text": [
      "Requirement already satisfied: konlpy in ./.venv/lib/python3.7/site-packages (0.5.2)\n",
      "Requirement already satisfied: numpy>=1.6 in ./.venv/lib/python3.7/site-packages (from konlpy) (1.19.1)\n",
      "Requirement already satisfied: lxml>=4.1.0 in ./.venv/lib/python3.7/site-packages (from konlpy) (4.5.2)\n",
      "Requirement already satisfied: beautifulsoup4==4.6.0 in ./.venv/lib/python3.7/site-packages (from konlpy) (4.6.0)\n",
      "Requirement already satisfied: JPype1>=0.7.0 in ./.venv/lib/python3.7/site-packages (from konlpy) (1.0.1)\n",
      "Requirement already satisfied: colorama in ./.venv/lib/python3.7/site-packages (from konlpy) (0.4.3)\n",
      "Requirement already satisfied: tweepy>=3.7.0 in ./.venv/lib/python3.7/site-packages (from konlpy) (3.9.0)\n",
      "Requirement already satisfied: typing-extensions; python_version < \"3.8\" in ./.venv/lib/python3.7/site-packages (from JPype1>=0.7.0->konlpy) (3.7.4.2)\n",
      "Requirement already satisfied: six>=1.10.0 in ./.venv/lib/python3.7/site-packages (from tweepy>=3.7.0->konlpy) (1.15.0)\n",
      "Requirement already satisfied: requests-oauthlib>=0.7.0 in ./.venv/lib/python3.7/site-packages (from tweepy>=3.7.0->konlpy) (1.3.0)\n",
      "Requirement already satisfied: requests[socks]>=2.11.1 in ./.venv/lib/python3.7/site-packages (from tweepy>=3.7.0->konlpy) (2.24.0)\n",
      "Requirement already satisfied: oauthlib>=3.0.0 in ./.venv/lib/python3.7/site-packages (from requests-oauthlib>=0.7.0->tweepy>=3.7.0->konlpy) (3.1.0)\n",
      "Requirement already satisfied: idna<3,>=2.5 in ./.venv/lib/python3.7/site-packages (from requests[socks]>=2.11.1->tweepy>=3.7.0->konlpy) (2.10)\n",
      "Requirement already satisfied: certifi>=2017.4.17 in ./.venv/lib/python3.7/site-packages (from requests[socks]>=2.11.1->tweepy>=3.7.0->konlpy) (2020.6.20)\n",
      "Requirement already satisfied: chardet<4,>=3.0.2 in ./.venv/lib/python3.7/site-packages (from requests[socks]>=2.11.1->tweepy>=3.7.0->konlpy) (3.0.4)\n",
      "Requirement already satisfied: urllib3!=1.25.0,!=1.25.1,<1.26,>=1.21.1 in ./.venv/lib/python3.7/site-packages (from requests[socks]>=2.11.1->tweepy>=3.7.0->konlpy) (1.25.10)\n",
      "Requirement already satisfied: PySocks!=1.5.7,>=1.5.6; extra == \"socks\" in ./.venv/lib/python3.7/site-packages (from requests[socks]>=2.11.1->tweepy>=3.7.0->konlpy) (1.7.1)\n"
     ]
    }
   ],
   "source": [
    "!pip install konlpy"
   ]
  },
  {
   "cell_type": "code",
   "execution_count": null,
   "metadata": {},
   "outputs": [],
   "source": []
  }
 ],
 "metadata": {
  "kernelspec": {
   "display_name": "Python 3",
   "language": "python",
   "name": "python3"
  },
  "language_info": {
   "codemirror_mode": {
    "name": "ipython",
    "version": 3
   },
   "file_extension": ".py",
   "mimetype": "text/x-python",
   "name": "python",
   "nbconvert_exporter": "python",
   "pygments_lexer": "ipython3",
   "version": "3.7.7"
  }
 },
 "nbformat": 4,
 "nbformat_minor": 4
}
